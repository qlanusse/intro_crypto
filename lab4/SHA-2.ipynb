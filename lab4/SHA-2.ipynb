{
 "cells": [
  {
   "cell_type": "markdown",
   "metadata": {},
   "source": [
    "# *Digest functions* SHA256"
   ]
  },
  {
   "cell_type": "markdown",
   "metadata": {},
   "source": [
    "#### Suplementary functions"
   ]
  },
  {
   "cell_type": "code",
   "execution_count": 6,
   "metadata": {},
   "outputs": [],
   "source": [
    "def leftrotate(x, c):\n",
    "    \"\"\" Left rotate the number x by c bytes.\"\"\"\n",
    "    x &= 0xFFFFFFFF\n",
    "    return ((x << c) | (x >> (32 - c))) & 0xFFFFFFFF\n",
    "\n",
    "def rightrotate(x, c):\n",
    "    \"\"\" Right rotate the number x by c bytes.\"\"\"\n",
    "    x &= 0xFFFFFFFF\n",
    "    return ((x >> c) | (x << (32 - c))) & 0xFFFFFFFF\n",
    "\n",
    "def leftshift(x, c):\n",
    "    \"\"\" Left shift the number x by c bytes.\"\"\"\n",
    "    return x << c\n",
    "\n",
    "def rightshift(x, c):\n",
    "    \"\"\" Right shift the number x by c bytes.\"\"\"\n",
    "    return x >> c"
   ]
  },
  {
   "cell_type": "markdown",
   "metadata": {},
   "source": [
    "# SHA-2 (256)"
   ]
  },
  {
   "cell_type": "markdown",
   "metadata": {},
   "source": [
    "### Padding\n"
   ]
  },
  {
   "cell_type": "code",
   "execution_count": 7,
   "metadata": {},
   "outputs": [
    {
     "name": "stdout",
     "output_type": "stream",
     "text": [
      "Message length (B): 43\n",
      "Message in bits: \n",
      " 1010100011010000110010100100000011100010111010101101001011000110110101100100000011000100111001001101111011101110110111000100000011001100110111101111000001000000110101001110101011011010111000001110011001000000110111101110110011001010111001000100000011101000110100001100101001000000110110001100001011110100111100100100000011001000110111101100111\n",
      "\n",
      "\n",
      "Padded message: \n",
      " 1010100011010000110010100100000011100010111010101101001011000110110101100100000011000100111001001101111011101110110111000100000011001100110111101111000001000000110101001110101011011010111000001110011001000000110111101110110011001010111001000100000011101000110100001100101001000000110110001100001011110100111100100100000011001000110111101100111100000000000000000000000000000000000000000000000000000000000000000000000000000000000000000000000000000000000000000000000000000000000000000000000000000000000000101011\n",
      "Length of padded message (B): 64\n"
     ]
    }
   ],
   "source": [
    "def padding(arg):\n",
    "        data = bytearray(arg, 'utf-8')\n",
    "        orig_len_in_bits = (8 * len(data)) & 0xFFFFFFFFFFFFFFFF #\n",
    "        # 1 add single bit '1' at the end of data\n",
    "        data.append(0x80)\n",
    "        # 2. add bits '0' until message length ≡ 448 (mod 512)\n",
    "        while len(data) % 64 != 56:\n",
    "            data.append(0)\n",
    "        # 3. add message length (64 bits) at the end \n",
    "        data += orig_len_in_bits.to_bytes(8, byteorder='big')\n",
    "        assert len(data) % 64 == 0, \"Error in padding\"\n",
    "        return data\n",
    "    \n",
    "string = 'The quick brown fox jumps over the lazy dog'\n",
    "print('Message length (B):', len(bytearray(string, 'utf-8')))\n",
    "print('Message in bits: \\n', bin(int.from_bytes(bytearray(string, 'utf-8'), byteorder=\"big\")).strip('0b'))\n",
    "print('\\n')\n",
    "datapad = padding(string)\n",
    "print('Padded message: \\n', bin(int.from_bytes(datapad, byteorder=\"big\")).strip('0b'))\n",
    "print('Length of padded message (B):', len(datapad))\n",
    "\n"
   ]
  },
  {
   "cell_type": "markdown",
   "metadata": {},
   "source": [
    "### Extending message \n",
    "512 bits = 16 x 32-bits pieces. SHA256 performs 64 round functions. Additional 48 pieces must be generated."
   ]
  },
  {
   "cell_type": "code",
   "execution_count": 8,
   "metadata": {
    "scrolled": false
   },
   "outputs": [
    {
     "name": "stdout",
     "output_type": "stream",
     "text": [
      "01010100011010000110010100100000\n",
      "01110001011101010110100101100011\n",
      "01101011001000000110001001110010\n",
      "01101111011101110110111000100000\n",
      "01100110011011110111100000100000\n",
      "01101010011101010110110101110000\n",
      "01110011001000000110111101110110\n",
      "01100101011100100010000001110100\n",
      "01101000011001010010000001101100\n",
      "01100001011110100111100100100000\n",
      "01100100011011110110011110000000\n",
      "00000000000000000000000000000000\n",
      "00000000000000000000000000000000\n",
      "00000000000000000000000000000000\n",
      "00000000000000000000000000000000\n",
      "00000000000000000000000101011000\n",
      "01001000011101110111100111100011\n",
      "11000111100110101010011100100101\n",
      "01010101101110000100110000100010\n",
      "00001000110010000101010000100110\n",
      "01001100101101011110010010000001\n",
      "10000100011010110011011011010000\n",
      "00101110010111011100110010010101\n",
      "01001001010001000101011100100000\n",
      "01100010011110010001000010101111\n",
      "00101110001111100110110100000101\n",
      "00010111100100100111111011011101\n",
      "01000111110111111010000111000100\n",
      "11110101000111000000010001110100\n",
      "01010011001010010010100110010001\n",
      "01111100001000111111101001110101\n",
      "00100110010011100010111110010100\n",
      "11110011110101100001000010011111\n",
      "00001110011100110001011011011001\n",
      "10111111111110011111100000011001\n",
      "01011001110010000001011101000000\n",
      "11011111001100001011011000111100\n",
      "01100110100111111101000010111001\n",
      "11111111000011000100010010010111\n",
      "01100110000011001010100011010001\n",
      "10110000101011011110010111110011\n",
      "11010111000011011011000011001101\n",
      "00100111110010110111010111100011\n",
      "10001011101011110110111111001100\n",
      "10010010101001101111111010011001\n",
      "11001000010101000001010101010011\n",
      "00101010010011000100011000111100\n",
      "00000100111010000011000001110011\n",
      "11101101000110111000110001010100\n",
      "10101110111111000000100010101110\n",
      "10010001100111111001101001100110\n",
      "11000001101011111001001111100011\n",
      "01110000000100010110010010111010\n",
      "11101101111001000111100111010011\n",
      "00100111000001001011110100100101\n",
      "10001111000110010011001011010011\n",
      "00010110011001101011110110101001\n",
      "01000111100010111110110011111011\n",
      "11000110011100001100101111100011\n",
      "00100110100010111111010011011100\n",
      "10111001000101100101100011000101\n",
      "11100000111001110010001010111001\n",
      "10001011010000011011111010100010\n",
      "11100111111011110110000110010111\n",
      "Extended chunk (64x32)\n",
      " [1416127776, 1903520099, 1797284466, 1870097952, 1718581280, 1786080624, 1931505526, 1701978228, 1751457900, 1635416352, 1685022592, 0, 0, 0, 0, 344, 1215789539, 3348801317, 1438141474, 147346470, 1286988929, 2221618896, 777899157, 1229215520, 1652101295, 775843077, 395476701, 1205838276, 4112254068, 1395206545, 2082732661, 642658196, 4090892447, 242423513, 3220830233, 1506285376, 3744511548, 1721749689, 4278994071, 1712105681, 2964186611, 3607998669, 667645411, 2343530444, 2460417689, 3360953683, 709641788, 82325619, 3978005588, 2935752878, 2443156070, 3249509347, 1880188090, 3991173587, 654621989, 2400793299, 375831977, 1200352507, 3329280995, 646706396, 3105249477, 3773244089, 2336341666, 3891224983]\n"
     ]
    }
   ],
   "source": [
    "def formchunk(data, offset):\n",
    "    chunks = data[offset : offset + 64]\n",
    "    w = [0 for i in range(64)] \n",
    "    # 1 16 x 32-bits\n",
    "    for i in range(16): #0...15 \n",
    "        w[i] = int.from_bytes(chunks[4*i : 4*i + 4], byteorder='big')\n",
    "        print(bin(w[i])[2:].zfill(32))\n",
    "    #2 generate additional 48 pieces\n",
    "    for i in range(16, 64):\n",
    "        s0 = (rightrotate(w[i-15], 7) ^ rightrotate(w[i-15], 18) ^ rightshift(w[i-15], 3)) & 0xFFFFFFFF\n",
    "        s1 = (rightrotate(w[i-2], 17) ^ rightrotate(w[i-2], 19) ^ rightshift(w[i-2], 10)) & 0xFFFFFFFF\n",
    "        w[i] = (w[i-16] + s0 + w[i-7] + s1) & 0xFFFFFFFF\n",
    "        print(bin(w[i])[2:].zfill(32))\n",
    "    return w\n",
    "        \n",
    "string = 'The quick brown fox jumps over the lazy dog'\n",
    "datapad = padding(string)\n",
    "exdatapad = formchunk(datapad,0)\n",
    "print('Extended chunk (64x32)\\n', exdatapad)\n"
   ]
  },
  {
   "cell_type": "markdown",
   "metadata": {},
   "source": [
    "### Round function of SHA256\n",
    "\n",
    "#### Nonlinear functions \n",
    "1. Ch: $(e \\wedge f) \\oplus (\\neg e \\wedge g)$ \n",
    "2. Ma: $(a \\wedge b) \\oplus (a \\wedge c)  \\oplus (b \\wedge c)$\n",
    "3. $\\sum_0$: $a\\ggg 2 \\wedge a\\ggg 13 \\wedge a\\ggg 22$ \n",
    "4. $\\sum_1$: $e\\ggg 6 \\wedge e\\ggg 11 \\wedge e\\ggg 25$"
   ]
  },
  {
   "cell_type": "code",
   "execution_count": 9,
   "metadata": {},
   "outputs": [
    {
     "name": "stdout",
     "output_type": "stream",
     "text": [
      "1779033703 3144134277 1013904242 2773480762 1359893119 2600822924 528734635 1541459225\n",
      "652397644 941978704 1349578093 1779033703 818854285 4251937728 3979364290 1359893119\n"
     ]
    }
   ],
   "source": [
    "# IV vector:\n",
    "h0 = 0x6a09e667\n",
    "h1 = 0xbb67ae85\n",
    "h2 = 0x3c6ef372\n",
    "h3 = 0xa54ff53a\n",
    "h4 = 0x510e527f\n",
    "h5 = 0x9b05688c\n",
    "h6 = 0x1f83d9ab\n",
    "h7 = 0x5be0cd19\n",
    "        \n",
    "# rounds constants:\n",
    "k = [0x428a2f98, 0x71374491, 0xb5c0fbcf, 0xe9b5dba5, 0x3956c25b, 0x59f111f1, 0x923f82a4, 0xab1c5ed5,\n",
    "     0xd807aa98, 0x12835b01, 0x243185be, 0x550c7dc3, 0x72be5d74, 0x80deb1fe, 0x9bdc06a7, 0xc19bf174,\n",
    "     0xe49b69c1, 0xefbe4786, 0x0fc19dc6, 0x240ca1cc, 0x2de92c6f, 0x4a7484aa, 0x5cb0a9dc, 0x76f988da,\n",
    "     0x983e5152, 0xa831c66d, 0xb00327c8, 0xbf597fc7, 0xc6e00bf3, 0xd5a79147, 0x06ca6351, 0x14292967,\n",
    "     0x27b70a85, 0x2e1b2138, 0x4d2c6dfc, 0x53380d13, 0x650a7354, 0x766a0abb, 0x81c2c92e, 0x92722c85,\n",
    "     0xa2bfe8a1, 0xa81a664b, 0xc24b8b70, 0xc76c51a3, 0xd192e819, 0xd6990624, 0xf40e3585, 0x106aa070,\n",
    "     0x19a4c116, 0x1e376c08, 0x2748774c, 0x34b0bcb5, 0x391c0cb3, 0x4ed8aa4a, 0x5b9cca4f, 0x682e6ff3,\n",
    "     0x748f82ee, 0x78a5636f, 0x84c87814, 0x8cc70208, 0x90befffa, 0xa4506ceb, 0xbef9a3f7, 0xc67178f2\n",
    "]    \n",
    "\n",
    "def sha2round(i, w, a, b, c, d, e, f, g, h):\n",
    "    S1 = (rightrotate(e, 6) ^ rightrotate(e, 11) ^ rightrotate(e, 25)) & 0xFFFFFFFF\n",
    "    ch = ((e & f) ^ ((~e) & g)) & 0xFFFFFFFF\n",
    "    temp1 = (h + S1 + ch + k[i] + w[i]) & 0xFFFFFFFF\n",
    "    S0 = (rightrotate(a, 2) ^ rightrotate(a, 13) ^ rightrotate(a, 22)) & 0xFFFFFFFF\n",
    "    maj = ((a & b) ^ (a & c) ^ (b & c)) & 0xFFFFFFFF\n",
    "    temp2 = (S0 + maj) & 0xFFFFFFFF\n",
    "\n",
    "    new_a = (temp1 + temp2) & 0xFFFFFFFF\n",
    "    new_e = (d + temp1) & 0xFFFFFFFF\n",
    "    # Rotate the 8 variables\n",
    "    new_a, a, b, c, new_e, e, f, g\n",
    "    return new_a, a, b, c, new_e, e, f, g\n",
    "\n",
    "print(h0, h1, h2, h3, h4, h5, h6, h7) \n",
    "a, b, c, d, e, f, g, h = h0, h1, h2, h3, h4, h5, h6, h7 \n",
    "a, b, c, d, e, f, g, h = sha2round(0, exdatapad,a, b, c, d, e, f, g, h)\n",
    "a, b, c, d, e, f, g, h = sha2round(1, exdatapad,a, b, c, d, e, f, g, h)\n",
    "a, b, c, d, e, f, g, h = sha2round(2, exdatapad,a, b, c, d, e, f, g, h)\n",
    "\n",
    "\n",
    "print(a, b, c, d, e, f, g, h )\n",
    "\n",
    "h0 = (h0 + a) & 0xFFFFFFFF\n",
    "h1 = (h1 + b) & 0xFFFFFFFF\n",
    "h2 = (h2 + c) & 0xFFFFFFFF\n",
    "h3 = (h3 + d) & 0xFFFFFFFF\n",
    "h4 = (h4 + e) & 0xFFFFFFFF\n",
    "h5 = (h5 + f) & 0xFFFFFFFF\n",
    "h6 = (h6 + g) & 0xFFFFFFFF\n",
    "h7 = (h7 + h) & 0xFFFFFFFF\n",
    "        # 3. Conclusion\n",
    "hash_pieces = [h0, h1, h2, h3, h4, h5, h6, h7]"
   ]
  },
  {
   "cell_type": "markdown",
   "metadata": {},
   "source": [
    "## Complete SHA256 digest function\n",
    "1. Add padding \n",
    "2. For each 512-bits chunk do: \n",
    "    1. split into 16 x 32-bits pieces\n",
    "    2. generate 48 additional pieces \n",
    "    3. for 64 32-bits pieces do round function (add round constant)\n",
    "    3. add result to digest vector (h0...h7)\n",
    "4. h0...h7 finally contain digest "
   ]
  },
  {
   "cell_type": "code",
   "execution_count": 15,
   "metadata": {
    "scrolled": true
   },
   "outputs": [
    {
     "name": "stdout",
     "output_type": "stream",
     "text": [
      "01010100011010000110010100100000\n",
      "01110001011101010110100101100011\n",
      "01101011001000000110001001110010\n",
      "01101111011101110110111000100000\n",
      "01100110011011110111100000100000\n",
      "01101010011101010110110101110000\n",
      "01110011001000000110111101110110\n",
      "01100101011100100010000001110100\n",
      "01101000011001010010000001101100\n",
      "01100001011110100111100100100000\n",
      "01100100011011110110011110000000\n",
      "00000000000000000000000000000000\n",
      "00000000000000000000000000000000\n",
      "00000000000000000000000000000000\n",
      "00000000000000000000000000000000\n",
      "00000000000000000000000101011000\n",
      "01001000011101110111100111100011\n",
      "11000111100110101010011100100101\n",
      "01010101101110000100110000100010\n",
      "00001000110010000101010000100110\n",
      "01001100101101011110010010000001\n",
      "10000100011010110011011011010000\n",
      "00101110010111011100110010010101\n",
      "01001001010001000101011100100000\n",
      "01100010011110010001000010101111\n",
      "00101110001111100110110100000101\n",
      "00010111100100100111111011011101\n",
      "01000111110111111010000111000100\n",
      "11110101000111000000010001110100\n",
      "01010011001010010010100110010001\n",
      "01111100001000111111101001110101\n",
      "00100110010011100010111110010100\n",
      "11110011110101100001000010011111\n",
      "00001110011100110001011011011001\n",
      "10111111111110011111100000011001\n",
      "01011001110010000001011101000000\n",
      "11011111001100001011011000111100\n",
      "01100110100111111101000010111001\n",
      "11111111000011000100010010010111\n",
      "01100110000011001010100011010001\n",
      "10110000101011011110010111110011\n",
      "11010111000011011011000011001101\n",
      "00100111110010110111010111100011\n",
      "10001011101011110110111111001100\n",
      "10010010101001101111111010011001\n",
      "11001000010101000001010101010011\n",
      "00101010010011000100011000111100\n",
      "00000100111010000011000001110011\n",
      "11101101000110111000110001010100\n",
      "10101110111111000000100010101110\n",
      "10010001100111111001101001100110\n",
      "11000001101011111001001111100011\n",
      "01110000000100010110010010111010\n",
      "11101101111001000111100111010011\n",
      "00100111000001001011110100100101\n",
      "10001111000110010011001011010011\n",
      "00010110011001101011110110101001\n",
      "01000111100010111110110011111011\n",
      "11000110011100001100101111100011\n",
      "00100110100010111111010011011100\n",
      "10111001000101100101100011000101\n",
      "11100000111001110010001010111001\n",
      "10001011010000011011111010100010\n",
      "11100111111011110110000110010111\n",
      "[3618175923, 605605314, 84189949, 3798021320, 334560024, 2850057885, 3844600519, 3012695084]\n",
      "97545829920249986086701697255135415527005557507566177129460596854278090527788\n",
      "Message digest :  d7a8fbb32418cdc20504a2fde26134c813f0fb18a9e06e9de527f2c7b392142c\n"
     ]
    }
   ],
   "source": [
    "def simpleSHA256(arg):\n",
    "\n",
    "    h0 = 0x6a09e667\n",
    "    h1 = 0xbb67ae85\n",
    "    h2 = 0x3c6ef372\n",
    "    h3 = 0xa54ff53a\n",
    "    h4 = 0x510e527f\n",
    "    h5 = 0x9b05688c\n",
    "    h6 = 0x1f83d9ab\n",
    "    h7 = 0x5be0cd19\n",
    "\n",
    "    k = [0x428a2f98, 0x71374491, 0xb5c0fbcf, 0xe9b5dba5, 0x3956c25b, 0x59f111f1, 0x923f82a4, 0xab1c5ed5,\n",
    "     0xd807aa98, 0x12835b01, 0x243185be, 0x550c7dc3, 0x72be5d74, 0x80deb1fe, 0x9bdc06a7, 0xc19bf174,\n",
    "     0xe49b69c1, 0xefbe4786, 0x0fc19dc6, 0x240ca1cc, 0x2de92c6f, 0x4a7484aa, 0x5cb0a9dc, 0x76f988da,\n",
    "     0x983e5152, 0xa831c66d, 0xb00327c8, 0xbf597fc7, 0xc6e00bf3, 0xd5a79147, 0x06ca6351, 0x14292967,\n",
    "     0x27b70a85, 0x2e1b2138, 0x4d2c6dfc, 0x53380d13, 0x650a7354, 0x766a0abb, 0x81c2c92e, 0x92722c85,\n",
    "     0xa2bfe8a1, 0xa81a664b, 0xc24b8b70, 0xc76c51a3, 0xd192e819, 0xd6990624, 0xf40e3585, 0x106aa070,\n",
    "     0x19a4c116, 0x1e376c08, 0x2748774c, 0x34b0bcb5, 0x391c0cb3, 0x4ed8aa4a, 0x5b9cca4f, 0x682e6ff3,\n",
    "     0x748f82ee, 0x78a5636f, 0x84c87814, 0x8cc70208, 0x90befffa, 0xa4506ceb, 0xbef9a3f7, 0xc67178f2\n",
    "]    \n",
    "\n",
    "    #1. Do padding\n",
    "    datapad = padding(arg)\n",
    "\n",
    "    #2. For each 512-bits \n",
    "    a, b, c, d, e, f, g, h = h0, h1, h2, h3, h4, h5, h6, h7\n",
    "    for offset in range(0, len(arg), 64):\n",
    "        # Split into 16x32 bits pieces & add 48 pieces\n",
    "        chunk = formchunk(datapad,offset)\n",
    "        a, b, c, d, e, f, g, h = h0, h1, h2, h3, h4, h5, h6, h7\n",
    "        \n",
    "        for i in range(64):\n",
    "            a, b, c, d, e, f, g, h = sha2round(i, chunk, a, b, c, d, e, f, g, h);\n",
    "            \n",
    "        h0 = (h0+a) & 0xFFFFFFFF\n",
    "        h1 = (h0+b) & 0xFFFFFFFF\n",
    "        h2 = (h0+c) & 0xFFFFFFFF\n",
    "        h3 = (h0+d) & 0xFFFFFFFF\n",
    "        h4 = (h0+e) & 0xFFFFFFFF\n",
    "        h5 = (h0+f) & 0xFFFFFFFF\n",
    "        h6 = (h0+g) & 0xFFFFFFFF\n",
    "        h7 = (h0+h) & 0xFFFFFFFF\n",
    "    \n",
    "    return h0, h1, h2, h3, h4, h5, h6, h7 \n",
    "    \n",
    "    \n",
    "H0, H1, H2, H3, H4, H5, H6, H7 = simpleSHA256(\"The quick brown fox jumps over the lazy dog\")\n",
    "hash_pieces = [H0, H1, H2, H3, H4, H5, H6, H7]\n",
    "print(hash_pieces)\n",
    "print(sum(leftshift(x, 32 * i) for i, x in enumerate(hash_pieces[::-1])))\n",
    "digest = sum(leftshift(x, 32 * i) for i, x in enumerate(hash_pieces[::-1]))\n",
    "raw = digest.to_bytes(32, 'big')\n",
    "format_str = '{:0' + str(2 * 32) + 'x}'\n",
    "hash = format_str.format(int.from_bytes(raw, byteorder='big'))\n",
    "print(\"Message digest : \", hash)\n",
    "#3618175923 131563668 1774885564 2953326159 2371244516 1832704886 755159231 935978386"
   ]
  },
  {
   "cell_type": "markdown",
   "metadata": {},
   "source": [
    "[1416127776, 1903520099, 1797284466, 1870097952, 1718581280, 1786080624, 1931505526, 1701978228, 1751457900, 1635416352, 1685022592, 0, 0, 0, 0, 344, 1215789539, 3348801317, 1438141474, 147346470, 1286988929, 2221618896, 777899157, 1229215520, 1652101295, 775843077, 395476701, 1205838276, 4112254068, 1395206545, 2082732661, 642658196, 4090892447, 242423513, 3220830233, 1506285376, 3744511548, 1721749689, 4278994071, 1712105681, 2964186611, 3607998669, 667645411, 2343530444, 2460417689, 3360953683, 709641788, 82325619, 3978005588, 2935752878, 2443156070, 3249509347, 1880188090, 3991173587, 654621989, 2400793299, 375831977, 1200352507, 3329280995, 646706396, 3105249477, 3773244089, 2336341666, 3891224983]"
   ]
  },
  {
   "cell_type": "markdown",
   "metadata": {},
   "source": [
    "## Reference implementation from haslib library"
   ]
  },
  {
   "cell_type": "code",
   "execution_count": 13,
   "metadata": {},
   "outputs": [
    {
     "data": {
      "text/plain": [
       "'d7a8fbb307d7809469ca9abcb0082e4f8d5651e46d3cdb762d02d0bf37c9e592'"
      ]
     },
     "execution_count": 13,
     "metadata": {},
     "output_type": "execute_result"
    }
   ],
   "source": [
    "import hashlib \n",
    "h = hashlib.sha256()\n",
    "h.update(b'The quick brown fox jumps over the lazy dog')\n",
    "h.hexdigest()"
   ]
  },
  {
   "cell_type": "code",
   "execution_count": null,
   "metadata": {},
   "outputs": [],
   "source": []
  }
 ],
 "metadata": {
  "kernelspec": {
   "display_name": "Python 3",
   "language": "python",
   "name": "python3"
  },
  "language_info": {
   "codemirror_mode": {
    "name": "ipython",
    "version": 3
   },
   "file_extension": ".py",
   "mimetype": "text/x-python",
   "name": "python",
   "nbconvert_exporter": "python",
   "pygments_lexer": "ipython3",
   "version": "3.8.0"
  }
 },
 "nbformat": 4,
 "nbformat_minor": 2
}
