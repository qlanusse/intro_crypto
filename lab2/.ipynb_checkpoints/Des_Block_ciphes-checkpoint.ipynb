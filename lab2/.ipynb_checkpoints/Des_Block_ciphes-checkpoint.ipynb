{
 "cells": [
  {
   "cell_type": "markdown",
   "metadata": {},
   "source": [
    "## DES cipher (Data Encryption Standard)\n",
    "\n",
    "https://www.schneier.com/blog/archives/2004/10/the_legacy_of_d.html\n"
   ]
  },
  {
   "cell_type": "markdown",
   "metadata": {},
   "source": [
    "### Key scheduling \n",
    "##### 1. Key reduction and permutation"
   ]
  },
  {
   "cell_type": "code",
   "execution_count": 23,
   "metadata": {},
   "outputs": [
    {
     "name": "stdout",
     "output_type": "stream",
     "text": [
      "Key reduced to 56 bits: 11110000110011001010101011110101010101100110011110001111\n"
     ]
    }
   ],
   "source": [
    "def apply_PC1(pc1_table,keys_64bits):\n",
    " \"\"\" This function takes Permutation table PC1 and initial key as input and return 56 bits key as output\"\"\"\n",
    " keys_56bits = \"\"\n",
    " for index in pc1_table:\n",
    "  keys_56bits += keys_64bits[index-1] \n",
    " return keys_56bits\n",
    "\n",
    "#Permutation schema\n",
    "PC1 = [57,49,41,33,25,17,9,1,58,50,42,34,26,18,10,2,59,51,43,35,27,19,11,3,60,52,44,36,63,55,47,39,31,23,15,7,62,54,46,38,30,22,14,6,61,53,45,37,29,21,13,5,28,20,12,4]\n",
    "\n",
    "# Test\n",
    "keys_64bits = \"0001001100110100010101110111100110011011101111001101111111110001\"\n",
    "keys_56bits = apply_PC1(PC1,keys_64bits)\n",
    "#Correct output: 11110000110011001010101011110101010101100110011110001111\n",
    "print('Key reduced to 56 bits:', keys_56bits)"
   ]
  },
  {
   "cell_type": "markdown",
   "metadata": {},
   "source": [
    "#####  2. Splitting key into two 28-bits chunks"
   ]
  },
  {
   "cell_type": "code",
   "execution_count": 24,
   "metadata": {},
   "outputs": [
    {
     "name": "stdout",
     "output_type": "stream",
     "text": [
      "Left part :  1111000011001100101010101111\n",
      "Right part:  0101010101100110011110001111\n"
     ]
    }
   ],
   "source": [
    "def split_key_in_half(keys_56bits):\n",
    " \"\"\" Split the 56 bits key into two equal half \"\"\"\n",
    " left_keys, right_keys = keys_56bits[:28],keys_56bits[28:]\n",
    " return left_keys, right_keys\n",
    "\n",
    "left56 , right56 = split_key_in_half(keys_56bits)\n",
    "\n",
    "print('Left part : ',left56)\n",
    "print('Right part: ',right56)"
   ]
  },
  {
   "cell_type": "markdown",
   "metadata": {},
   "source": [
    "##### 3. Shift and rotate\n",
    "Chunks are shifted-and-rotated by 1 or 2 bits. "
   ]
  },
  {
   "cell_type": "code",
   "execution_count": 25,
   "metadata": {},
   "outputs": [
    {
     "name": "stdout",
     "output_type": "stream",
     "text": [
      "Left part after shift:   1110000110011001010101011111\n",
      "Right part after shift  0101010110011001111000111101\n"
     ]
    }
   ],
   "source": [
    "def key_circular_left_shift(bits,numberofbits):\n",
    " \"\"\"This method will circularly shift the given bit string according to the number of bits\"\"\"\n",
    " shiftedbits = bits[numberofbits:] + bits[:numberofbits]\n",
    " return shiftedbits\n",
    "\n",
    "\n",
    "print(\"Left part after shift:  \",key_circular_left_shift(left56,1))\n",
    "print(\"Right part after shift \",key_circular_left_shift(right56,2))"
   ]
  },
  {
   "cell_type": "markdown",
   "metadata": {},
   "source": [
    "##### 4. Final permutation with compression"
   ]
  },
  {
   "cell_type": "code",
   "execution_count": 26,
   "metadata": {},
   "outputs": [
    {
     "name": "stdout",
     "output_type": "stream",
     "text": [
      "Round key:  110010110011110110001011000011100001011111110101\n"
     ]
    }
   ],
   "source": [
    "def apply_PC2(pc2_table,keys_56bits):\n",
    " \"\"\" This will take Compression table and combined both half as input and return a 48-bits string as output\"\"\"\n",
    " keys_48bits = \"\"\n",
    " for index in pc2_table:\n",
    "  keys_48bits += keys_56bits[index-1]\n",
    " return keys_48bits\n",
    "\n",
    "PC2 = [14,17,11,24,1,5,3,28,15,6,21,10,23,19,12,4,26,8,16,7,27,20,13,2, 41,52,31,37,47,55,30,40,51,45,33,48,44,49,39,56,34,53,46,42,50,36,29,32]\n",
    "\n",
    "# Test \n",
    "left_half = \"1111000011001100101010101111\"\n",
    "right_half = \"0101010101100110011110001111\"\n",
    "\n",
    "subkey = apply_PC2(PC2,left_half + right_half)\n",
    "\n",
    "print(\"Round key: \", subkey)"
   ]
  },
  {
   "cell_type": "markdown",
   "metadata": {},
   "source": [
    "#### DES keys scheduling\n",
    "![title](img/des.png)\n",
    "Let's put everything together:"
   ]
  },
  {
   "cell_type": "code",
   "execution_count": 29,
   "metadata": {},
   "outputs": [
    {
     "name": "stdout",
     "output_type": "stream",
     "text": [
      "Round keys: \n",
      "000110110000001011101111111111000111000001110010\n",
      "011110011010111011011001110110111100100111100101\n",
      "010101011111110010001010010000101100111110011001\n",
      "011100101010110111010110110110110011010100011101\n",
      "011111001110110000000111111010110101001110101000\n",
      "011000111010010100111110010100000111101100101111\n",
      "111011001000010010110111111101100001100010111100\n",
      "111101111000101000111010110000010011101111111011\n",
      "111000001101101111101011111011011110011110000001\n",
      "101100011111001101000111101110100100011001001111\n",
      "001000010101111111010011110111101101001110000110\n",
      "011101010111000111110101100101000110011111101001\n",
      "100101111100010111010001111110101011101001000001\n",
      "010111110100001110110111111100101110011100111010\n",
      "101111111001000110001101001111010011111100001010\n",
      "110010110011110110001011000011100001011111110101\n"
     ]
    }
   ],
   "source": [
    "# shift for each round\n",
    "round_shifts = [1, 1, 2, 2, 2, 2, 2, 2, 1, 2, 2, 2, 2, 2, 2, 1]\n",
    "\n",
    "PC1 = [57,49,41,33,25,17,9,1,58,50,42,34,26,18,10,2,59,51,43,35,27,19,11,3,60,52,44,36,63,55,47,39,31,23,15,7,62,54,46,38,30,22,14,6,61,53,45,37,29,21,13,5,28,20,12,4]\n",
    "PC2 = [14,17,11,24,1,5,3,28,15,6,21,10,23,19,12,4,26,8,16,7,27,20,13,2, 41,52,31,37,47,55,30,40,51,45,33,48,44,49,39,56,34,53,46,42,50,36,29,32]\n",
    "\n",
    "def generate_keys(key_64bits):\n",
    "    round_keys = list()\n",
    "    \n",
    "    keys_56bits = apply_PC1(PC1,key_64bits)\n",
    "    \n",
    "    left56 , right56 = split_key_in_half(keys_56bits)\n",
    "    \n",
    "    for roundnumber in range(16):\n",
    "        left_shifted = key_circular_left_shift(left56,round_shifts[roundnumber])\n",
    "        right_shifted = key_circular_left_shift(right56,round_shifts[roundnumber])\n",
    "        key48_bits = apply_PC2(PC2, left_shifted+right_shifted)\n",
    "        left56 = left_shifted\n",
    "        right56 = right_shifted\n",
    "        \n",
    "        round_keys.append(key48_bits)\n",
    "        \n",
    "    \n",
    "    return round_keys\n",
    "\n",
    "#test \n",
    "key_64bits = \"0001001100110100010101110111100110011011101111001101111111110001\"\n",
    "\n",
    "subkeys = generate_keys(key_64bits)\n",
    "\n",
    "print(\"Round keys: \")\n",
    "print(\"\\n\".join(subkeys))"
   ]
  },
  {
   "cell_type": "markdown",
   "metadata": {},
   "source": [
    "##### Weak keys\n",
    "Generate round keys for keys included below:"
   ]
  },
  {
   "cell_type": "code",
   "execution_count": 30,
   "metadata": {},
   "outputs": [
    {
     "name": "stdout",
     "output_type": "stream",
     "text": [
      "Round keys 1: \n",
      "111111111111111111111111111111111111111111111111\n",
      "111111111111111111111111111111111111111111111111\n",
      "111111111111111111111111111111111111111111111111\n",
      "111111111111111111111111111111111111111111111111\n",
      "111111111111111111111111111111111111111111111111\n",
      "111111111111111111111111111111111111111111111111\n",
      "111111111111111111111111111111111111111111111111\n",
      "111111111111111111111111111111111111111111111111\n",
      "111111111111111111111111111111111111111111111111\n",
      "111111111111111111111111111111111111111111111111\n",
      "111111111111111111111111111111111111111111111111\n",
      "111111111111111111111111111111111111111111111111\n",
      "111111111111111111111111111111111111111111111111\n",
      "111111111111111111111111111111111111111111111111\n",
      "111111111111111111111111111111111111111111111111\n",
      "111111111111111111111111111111111111111111111111\n",
      "Round keys 2: \n",
      "111111111111111111111111000000000000000000000000\n",
      "111111111111111111111111000000000000000000000000\n",
      "111111111111111111111111000000000000000000000000\n",
      "111111111111111111111111000000000000000000000000\n",
      "111111111111111111111111000000000000000000000000\n",
      "111111111111111111111111000000000000000000000000\n",
      "111111111111111111111111000000000000000000000000\n",
      "111111111111111111111111000000000000000000000000\n",
      "111111111111111111111111000000000000000000000000\n",
      "111111111111111111111111000000000000000000000000\n",
      "111111111111111111111111000000000000000000000000\n",
      "111111111111111111111111000000000000000000000000\n",
      "111111111111111111111111000000000000000000000000\n",
      "111111111111111111111111000000000000000000000000\n",
      "111111111111111111111111000000000000000000000000\n",
      "111111111111111111111111000000000000000000000000\n"
     ]
    }
   ],
   "source": [
    "strangekey1 = '1111111011111110111111101111111011111110111111101111111011111110'\n",
    "strangekey2 = '1110000011100000111000001110000011110001111100011111000111110001'\n",
    "\n",
    "subkeys1 = generate_keys(strangekey1)\n",
    "subkeys2 = generate_keys(strangekey2)\n",
    "\n",
    "print(\"Round keys 1: \")\n",
    "print(\"\\n\".join(subkeys1))\n",
    "print(\"Round keys 2: \")\n",
    "print(\"\\n\".join(subkeys2))"
   ]
  },
  {
   "cell_type": "markdown",
   "metadata": {},
   "source": [
    "### Nonlinear round function f()\n",
    "\n",
    "##### 1. Expand 32-bits block to 48-bits"
   ]
  },
  {
   "cell_type": "code",
   "execution_count": 8,
   "metadata": {},
   "outputs": [
    {
     "name": "stdout",
     "output_type": "stream",
     "text": [
      "Extended block:  011110100001010101010101011110100001010101010101\n"
     ]
    }
   ],
   "source": [
    "EXPANSION_TABLE = [32,1,2,3,4,5,4,5,6,7,8,9,8,9,10,11,12,13,12,13,14,15,16,17,\n",
    "16,17,18,19,20,21,20,21,22,23,24,25,24,25,26,27,28,29,28,29,30,31,32,1]\n",
    "\n",
    "def apply_Expansion(expansion_table,bits32):\n",
    "    \"\"\" This will take expansion table and 32-bit binary string as input and output a 48-bit binary stirng\"\"\"\n",
    "    bits48 = \"\"\n",
    "    for index in expansion_table:\n",
    "        bits48 += bits32[index-1]\n",
    "    return bits48\n",
    "\n",
    "#test \n",
    "bits32 = '11110000101010101111000010101010'\n",
    "out_bits48 = apply_Expansion(EXPANSION_TABLE,bits32)\n",
    "print(\"Extended block: \", out_bits48)\n",
    "# 011110100001010101010101011110100001010101010101\n"
   ]
  },
  {
   "cell_type": "markdown",
   "metadata": {},
   "source": [
    "Simple XOR operation:"
   ]
  },
  {
   "cell_type": "code",
   "execution_count": 9,
   "metadata": {},
   "outputs": [
    {
     "name": "stdout",
     "output_type": "stream",
     "text": [
      "0110\n"
     ]
    }
   ],
   "source": [
    "def XOR(bits1,bits2):\n",
    "\t\"\"\"perform a XOR operation and return the output\"\"\"\n",
    "  # Assuming both bit string of same length\n",
    "\txor_result = \"\"\n",
    "\tfor index in range(len(bits1)):\n",
    "\t\tif bits1[index] == bits2[index]: \n",
    "\t\t\txor_result += '0'\n",
    "\t\telse:\n",
    "\t\t\txor_result += '1'\n",
    "\treturn xor_result\n",
    "\n",
    "bits1 = '1100'\n",
    "bits2 = '1010'\n",
    "print(XOR(bits1,bits2))\n",
    "# output: '0110'"
   ]
  },
  {
   "cell_type": "markdown",
   "metadata": {},
   "source": [
    "##### 2. S-boxes"
   ]
  },
  {
   "cell_type": "code",
   "execution_count": 10,
   "metadata": {},
   "outputs": [],
   "source": [
    "SBOX = [\n",
    "# Box-1\n",
    "[\n",
    "[14,4,13,1,2,15,11,8,3,10,6,12,5,9,0,7],\n",
    "[0,15,7,4,14,2,13,1,10,6,12,11,9,5,3,8],\n",
    "[4,1,14,8,13,6,2,11,15,12,9,7,3,10,5,0],\n",
    "[15,12,8,2,4,9,1,7,5,11,3,14,10,0,6,13]\n",
    "],\n",
    "# Box-2\n",
    "\n",
    "[\n",
    "[15,1,8,14,6,11,3,4,9,7,2,13,12,0,5,10],\n",
    "[3,13,4,7,15,2,8,14,12,0,1,10,6,9,11,5],\n",
    "[0,14,7,11,10,4,13,1,5,8,12,6,9,3,2,15],\n",
    "[13,8,10,1,3,15,4,2,11,6,7,12,0,5,14,9]\n",
    "],\n",
    "\n",
    "# Box-3\n",
    "\n",
    "[\n",
    "[10,0,9,14,6,3,15,5,1,13,12,7,11,4,2,8],\n",
    "[13,7,0,9,3,4,6,10,2,8,5,14,12,11,15,1],\n",
    "[13,6,4,9,8,15,3,0,11,1,2,12,5,10,14,7],\n",
    "[1,10,13,0,6,9,8,7,4,15,14,3,11,5,2,12]\n",
    "\n",
    "],\n",
    "\n",
    "# Box-4\n",
    "[\n",
    "[7,13,14,3,0,6,9,10,1,2,8,5,11,12,4,15],\n",
    "[13,8,11,5,6,15,0,3,4,7,2,12,1,10,14,9],\n",
    "[10,6,9,0,12,11,7,13,15,1,3,14,5,2,8,4],\n",
    "[3,15,0,6,10,1,13,8,9,4,5,11,12,7,2,14]\n",
    "],\n",
    "\n",
    "# Box-5\n",
    "[\n",
    "[2,12,4,1,7,10,11,6,8,5,3,15,13,0,14,9],\n",
    "[14,11,2,12,4,7,13,1,5,0,15,10,3,9,8,6],\n",
    "[4,2,1,11,10,13,7,8,15,9,12,5,6,3,0,14],\n",
    "[11,8,12,7,1,14,2,13,6,15,0,9,10,4,5,3]\n",
    "],\n",
    "# Box-6\n",
    "\n",
    "[\n",
    "[12,1,10,15,9,2,6,8,0,13,3,4,14,7,5,11],\n",
    "[10,15,4,2,7,12,9,5,6,1,13,14,0,11,3,8],\n",
    "[9,14,15,5,2,8,12,3,7,0,4,10,1,13,11,6],\n",
    "[4,3,2,12,9,5,15,10,11,14,1,7,6,0,8,13]\n",
    "\n",
    "],\n",
    "# Box-7\n",
    "[\n",
    "[4,11,2,14,15,0,8,13,3,12,9,7,5,10,6,1],\n",
    "[13,0,11,7,4,9,1,10,14,3,5,12,2,15,8,6],\n",
    "[1,4,11,13,12,3,7,14,10,15,6,8,0,5,9,2],\n",
    "[6,11,13,8,1,4,10,7,9,5,0,15,14,2,3,12]\n",
    "],\n",
    "# Box-8\n",
    "\n",
    "[\n",
    "[13,2,8,4,6,15,11,1,10,9,3,14,5,0,12,7],\n",
    "[1,15,13,8,10,3,7,4,12,5,6,11,0,14,9,2],\n",
    "[7,11,4,1,9,12,14,2,0,6,10,13,15,3,5,8],\n",
    "[2,1,14,7,4,10,8,13,15,12,9,0,3,5,6,11]\n",
    "]\n",
    "\n",
    "]"
   ]
  },
  {
   "cell_type": "code",
   "execution_count": 11,
   "metadata": {},
   "outputs": [
    {
     "name": "stdout",
     "output_type": "stream",
     "text": [
      "Split into 6-bits chunks: ['011110', '100001', '010101', '010101', '011110', '100001', '010101', '010101']\n",
      "First and last bit:  00\n",
      "Middle 4 bits: 1111\n",
      "Sbox output 1010\n"
     ]
    }
   ],
   "source": [
    "import textwrap\n",
    "\n",
    "#podział wiadomości na 6-bitowe porcje 48/6 = 8 \n",
    "def split_in_6bits(XOR_48bits):\n",
    "\t\"\"\"split 48 bits into 6 bits each \"\"\"\n",
    "\tlist_of_6bits = textwrap.wrap(XOR_48bits,6)\n",
    "\treturn list_of_6bits\n",
    "\n",
    "## Pomocnicze funkcje \n",
    "def get_first_and_last_bit(bits6):\n",
    "\t\"\"\"Return first and last bit from a binary string\"\"\"\n",
    "\ttwobits = bits6[0] + bits6[-1] \n",
    "\treturn twobits\n",
    "\n",
    "def get_middle_four_bit(bits6):\n",
    "\t\"\"\"Return first and last bit from a binary string\"\"\"\n",
    "\tfourbits = bits6[1:5] \n",
    "\treturn fourbits\n",
    "\n",
    "def binary_to_decimal(binarybits):\n",
    "\t\"\"\" Convert binary bits to decimal\"\"\"\n",
    "\t# helps during list access\n",
    "\tdecimal = int(binarybits,2)\n",
    "\treturn decimal\n",
    "\n",
    "def decimal_to_binary(decimal):\n",
    "\t\"\"\" Convert decimal to binary bits\"\"\"\n",
    "\tbinary4bits = bin(decimal)[2:].zfill(4)\n",
    "\treturn binary4bits\n",
    "\n",
    "def sbox_lookup(sboxcount,first_last,middle4):\n",
    "\t\"\"\" take three parameter and access the Sbox accordingly and return the value\"\"\"\n",
    "\td_first_last = binary_to_decimal(first_last)\n",
    "\td_middle = binary_to_decimal(middle4)\n",
    "\t\n",
    "\tsbox_value = SBOX[sboxcount][d_first_last][d_middle]\n",
    "\treturn decimal_to_binary(sbox_value)\n",
    "\n",
    "#Test\n",
    "bits48 = '011110100001010101010101011110100001010101010101'\n",
    "sixbitslist = split_in_6bits(bits48) \n",
    "print(\"Split into 6-bits chunks:\", sixbitslist)\n",
    "bits6 = sixbitslist[0]\n",
    "first_last = get_first_and_last_bit(bits6)  # '10' -> 2\n",
    "print(\"First and last bit: \", first_last)\n",
    "middle4 = get_middle_four_bit(bits6)  # '0000' -> 0\n",
    "print(\"Middle 4 bits:\", middle4)\n",
    "\n",
    "sboxcount = 1\n",
    "result = sbox_lookup(sboxcount,first_last,middle4) \n",
    "print(\"Sbox output\", result)"
   ]
  },
  {
   "cell_type": "markdown",
   "metadata": {},
   "source": [
    "##### 3. Final permutation"
   ]
  },
  {
   "cell_type": "code",
   "execution_count": 12,
   "metadata": {},
   "outputs": [],
   "source": [
    "PERMUTATION_TABLE = [16,7,20,21,29,12,28,17,1,15,23,26,5,18,31,10,\n",
    "\t\t                 2,8,24,14,32,27,3,9,19,13,30,6,22,11,4,25]\n",
    "\n",
    "def apply_Permutation(permutation_table,sbox_32bits):\n",
    "\t\"\"\" It takes Sboxes output and a permutation table and return 32 bit binary string\"\"\"\n",
    "\tfinal_32bits = \"\"\n",
    "\tfor index in permutation_table:\n",
    "\t\tfinal_32bits += sbox_32bits[index-1]\n",
    "\treturn final_32bits"
   ]
  },
  {
   "cell_type": "markdown",
   "metadata": {},
   "source": [
    "5. Nonlinear DES function\n",
    "![title](img/desroundfunction.png)"
   ]
  },
  {
   "cell_type": "code",
   "execution_count": 41,
   "metadata": {},
   "outputs": [
    {
     "name": "stdout",
     "output_type": "stream",
     "text": [
      "Result of applying F():  11010001010000100101101101111100\n"
     ]
    }
   ],
   "source": [
    "def functionF(pre32bits, key48bits):\t\n",
    "    \"\"\"This is main function to perform function F \"\"\"\n",
    "    out_bits48 = apply_Expansion(EXPANSION_TABLE,pre32bits)\n",
    "    \n",
    "    bits48 = XOR(out_bits48, key48bits)\n",
    "    sixbitslist = split_in_6bits(bits48)\n",
    "    \n",
    "    sbox_count = 0\n",
    "    final32bits=''\n",
    "    \n",
    "    for i in range(len(sixbitslist)):\n",
    "        first_last = get_first_and_last_bit(sixbitslist[i])\n",
    "        middle4 = get_middle_four_bit(sixbitslist[i])\n",
    "        sbox_value = sbox_lookup(sbox_count, first_last, middle4)\n",
    "        sbox_count += 1\n",
    "        \n",
    "        final32bits += sbox_value\n",
    "    \n",
    "    return apply_Permutation(PERMUTATION_TABLE, final32bits)\n",
    "\n",
    "#test \n",
    "bits32 = '11110000101010101111000010101010'\n",
    "key48bits = '110010110011110110001011000011100001011111110101'\n",
    "print(\"Result of applying F(): \", functionF(bits32, key48bits))"
   ]
  },
  {
   "cell_type": "markdown",
   "metadata": {},
   "source": [
    "### DES encryption\n",
    "Some helpful functions:"
   ]
  },
  {
   "cell_type": "code",
   "execution_count": 42,
   "metadata": {},
   "outputs": [
    {
     "name": "stdout",
     "output_type": "stream",
     "text": [
      "Hex2Bin: 0000000100100011010001010110011110001001101010111100110111101111\n",
      "Hex2Bin: 0000000100100011010001010110011110001001101010111100110111101111\n"
     ]
    }
   ],
   "source": [
    "HEX_to_Binary = {'0':'0000',\n",
    "\t\t '1':'0001',\n",
    "\t\t '2':'0010',\n",
    "\t\t '3':'0011',\n",
    "\t\t '4':'0100',\n",
    "\t\t '5':'0101',\n",
    "\t\t '6':'0110',\n",
    "\t\t '7':'0111',\n",
    "\t\t '8':'1000',\n",
    "\t\t '9':'1001',\n",
    "\t\t 'A':'1010',\n",
    "\t\t 'B':'1011',\n",
    "\t\t 'C':'1100',\n",
    "\t\t 'D':'1101',\n",
    "\t\t 'E':'1110',\n",
    "\t\t 'F':'1111',\n",
    "\t\t}\n",
    "\n",
    "\n",
    "def hexDigit_to_binary_bits(hex_digit):\n",
    "\tbinary_4bits = HEX_to_Binary[hex_digit]\n",
    "\treturn binary_4bits\n",
    "\n",
    "def hexString_to_binary_bits1(hex_string):\n",
    "\tbinary_bits = \"\"\n",
    "\tfor hex_digit in hex_string:\n",
    "\t\tbinary_bits += hexDigit_to_binary_bits(hex_digit)\n",
    "\treturn binary_bits\n",
    "\n",
    "def hexString_to_binary_bits2(hexdigits):\n",
    "\tbinarydigits = \"\"\n",
    "\tfor hexdigit in hexdigits:\n",
    "\t\tbinarydigits += bin(int(hexdigit,16))[2:].zfill(4)\n",
    "\treturn binarydigits\n",
    "\t\t\n",
    "M = '0123456789ABCDEF' \n",
    "print(\"Hex2Bin:\", hexString_to_binary_bits1(M))\n",
    "# Output: 0000000100100011010001010110011110001001101010111100110111101111\n",
    "print(\"Hex2Bin:\", hexString_to_binary_bits2(M))\n",
    "# Output: 0000000100100011010001010110011110001001101010111100110111101111"
   ]
  },
  {
   "cell_type": "markdown",
   "metadata": {},
   "source": [
    "##### 1. How DES works\n",
    "![title](img/descipher.png)"
   ]
  },
  {
   "cell_type": "markdown",
   "metadata": {},
   "source": [
    "#### 2. Początkowa permutacja "
   ]
  },
  {
   "cell_type": "code",
   "execution_count": 43,
   "metadata": {},
   "outputs": [
    {
     "name": "stdout",
     "output_type": "stream",
     "text": [
      "Binary plaintext: 0000000100100011010001010110011110001001101010111100110111101111\n",
      "Plaintext after initial permutation: 1100110000000000110011001111111111110000101010101111000010101010\n"
     ]
    }
   ],
   "source": [
    "def hexTobinary(hexdigits):\n",
    "\tbinarydigits = \"\"\n",
    "\tfor hexdigit in hexdigits:\n",
    "\t\tbinarydigits += bin(int(hexdigit,16))[2:].zfill(4)\n",
    "\treturn binarydigits\n",
    "\n",
    "\n",
    "INITIAL_PERMUTATION_TABLE = ['58 ', '50 ', '42 ', '34 ', '26 ', '18 ', '10 ', '2',\n",
    "\t\t\t '60 ', '52 ', '44 ', '36 ', '28 ', '20 ', '12 ', '4',\n",
    "\t\t\t '62 ', '54 ', '46 ', '38 ', '30 ', '22 ', '14 ', '6', \n",
    "\t\t\t'64 ', '56 ', '48 ', '40 ', '32 ', '24 ', '16 ', '8', \n",
    "\t\t\t'57 ', '49 ', '41 ', '33 ', '25 ', '17 ', '9 ', '1',\n",
    "\t\t\t '59 ', '51 ', '43 ', '35 ', '27 ', '19 ', '11 ', '3',\n",
    "\t\t\t '61 ', '53 ', '45 ', '37 ', '29 ', '21 ', '13 ', '5',\n",
    "\t\t\t '63 ', '55 ', '47 ', '39 ', '31 ', '23 ', '15 ', '7']\n",
    "\n",
    "def apply_initial_permutation(P_TABLE, PLAINTEXT):\n",
    "\tpermutated_M = \"\"\n",
    "\tfor index in P_TABLE:\n",
    "\t\tpermutated_M += PLAINTEXT[int(index)-1]\n",
    "\treturn permutated_M\n",
    "\n",
    "#Test\n",
    "M = '0123456789ABCDEF'\n",
    "plaintext = hexTobinary(M)\n",
    "print(\"Binary plaintext:\", plaintext)\n",
    "print(\"Plaintext after initial permutation:\", apply_initial_permutation(INITIAL_PERMUTATION_TABLE,plaintext))\n",
    "\n",
    "## Output\n",
    "# 0000000100100011010001010110011110001001101010111100110111101111\n",
    "# 1100110000000000110011001111111111110000101010101111000010101010"
   ]
  },
  {
   "cell_type": "markdown",
   "metadata": {},
   "source": [
    "##### 3. Podział bloku 64-bitowego na dwie części "
   ]
  },
  {
   "cell_type": "code",
   "execution_count": 48,
   "metadata": {},
   "outputs": [
    {
     "name": "stdout",
     "output_type": "stream",
     "text": [
      "Blok po podziale:  00000001001000110100010101100111 10001001101010111100110111101111\n"
     ]
    }
   ],
   "source": [
    "def split_block_inhalf(binarybits):\n",
    "\treturn binarybits[:32],binarybits[32:]\n",
    "\n",
    "M = '0123456789ABCDEF'\n",
    "p_plaintext = hexTobinary(M)\n",
    "L0,R0 = split_block_inhalf(p_plaintext)\n",
    "print(\"Blok po podziale: \",L0,R0)\n",
    " \n",
    "#Output\n",
    "#'00000001001000110100010101100111' '10001001101010111100110111101111'"
   ]
  },
  {
   "cell_type": "markdown",
   "metadata": {},
   "source": [
    "##### 4. Inverse permutation "
   ]
  },
  {
   "cell_type": "code",
   "execution_count": 49,
   "metadata": {},
   "outputs": [
    {
     "name": "stdout",
     "output_type": "stream",
     "text": [
      "Block after final permutation: 0000000100100011010001010110011110001001101010111100110111101111\n"
     ]
    }
   ],
   "source": [
    "INVERSE_PERMUTATION_TABLE = ['40 ', '8 ', '48 ', '16 ', '56 ', '24 ', '64 ', '32',\n",
    "\t\t\t     '39 ', '7 ', '47 ', '15 ', '55 ', '23 ', '63 ', '31',\n",
    "\t\t\t     '38 ', '6 ', '46 ', '14 ',  '54 ', '22 ', '62 ', '30',\n",
    "\t\t\t     '37 ', '5 ', '45 ', '13 ', '53 ', '21 ', '61 ', '29',\n",
    "\t\t\t     '36 ', '4 ', '44 ', '12 ', '52 ', '20 ', '60 ', '28',\n",
    "\t\t\t     '35 ', '3 ', '43 ', '11 ', '51 ', '19 ', '59 ', '27', \n",
    "\t\t\t     '34 ', '2 ', '42 ', '10 ', '50 ', '18 ', '58 ', '26',\n",
    "\t\t\t     '33 ', '1 ', '41 ', '9 ', '49 ', '17 ', '57 ', '25']\n",
    "\n",
    "# Test\n",
    "R16 = '11001100000000001100110011111111'  \n",
    "L16 = '11110000101010101111000010101010'\n",
    "\n",
    "cipher = apply_initial_permutation(INVERSE_PERMUTATION_TABLE, R16+L16)\n",
    "\n",
    "print(\"Block after final permutation:\", cipher)\n",
    "# Ouptput\n",
    "# 0000000100100011010001010110011110001001101010111100110111101111 "
   ]
  },
  {
   "cell_type": "markdown",
   "metadata": {},
   "source": [
    "##### 5. Feistel network\n",
    "![title](img/feistel-network.png)"
   ]
  },
  {
   "cell_type": "code",
   "execution_count": 53,
   "metadata": {},
   "outputs": [
    {
     "name": "stdout",
     "output_type": "stream",
     "text": [
      "Input block 1100110000000000110011001111111111110000101010101111000010101010\n",
      "Output block 0000001100000001010010000100100011001100000000001100110011111111\n",
      "Original block 1100110000000000110011001111111111110000101010101111000010101010\n"
     ]
    }
   ],
   "source": [
    "# Lets do some round key \n",
    "key_64bits = \"0001001100110100010101110111100110011011101111001101111111110001\"\n",
    "roundkeys = generate_keys(key_64bits)\n",
    "# Suppose initial R and L value is \n",
    "R = '11001100000000001100110011111111'  \n",
    "L = '11110000101010101111000010101010'\n",
    "\n",
    "print(\"Input block\", R+L)\n",
    "# Feistel network \n",
    "newL = R\n",
    "newR = XOR(L, functionF(R, roundkeys[0]))\n",
    "R = newR\n",
    "L = newL\n",
    "\n",
    "\n",
    "print(\"Output block\", R+L)\n",
    "# Apply Feistel once again to decrypt data\n",
    "newL = XOR(R, functionF(L, roundkeys[0]))\n",
    "newR = L\n",
    "L = newL\n",
    "R = newR\n",
    "\n",
    "\n",
    "print(\"Original block\", R+L)\n"
   ]
  },
  {
   "cell_type": "markdown",
   "metadata": {},
   "source": [
    "##### 6. Let's put everything together"
   ]
  },
  {
   "cell_type": "code",
   "execution_count": 67,
   "metadata": {},
   "outputs": [
    {
     "name": "stdout",
     "output_type": "stream",
     "text": [
      "Key:       0001001000110100010101100111100010101011110011101101111111111001\n",
      "Plaintext: 0000000100100011010001010110011110001001101010111100110111101111\n",
      "Ciphertext:  0110010000110010111011011111011101000001111110000100010101101011\n",
      "Ciphertext in hex:  0x6432edf741f8456b\n",
      "Decrypted message:  0101111101111110100000000110000010110010011010101011001010111011\n"
     ]
    }
   ],
   "source": [
    "import binascii\n",
    "M = '0123456789ABCDEF'\n",
    "key ='12345678ABCEDFF9'\n",
    "# C = '9831DEFB82F48A97' #test ciphertext \n",
    "\n",
    "def DES_encrypt(message,key):\n",
    "    cipher = \"\"\n",
    "    plaintext_bits = hexTobinary(message)\n",
    "    key_bits = hexTobinary(key)\n",
    "    # implement DES cipher \n",
    "    keys = generate_keys(key_bits)\n",
    "    \n",
    "    perm = apply_initial_permutation(INITIAL_PERMUTATION_TABLE, plaintext_bits)\n",
    "    left, right = split_block_inhalf(perm)\n",
    "    \n",
    "    for i in range(16):\n",
    "        newL = right\n",
    "        newR = XOR(left, functionF(right, keys[i]))\n",
    "        left = newL\n",
    "        right = newR\n",
    "        \n",
    "    cipher = apply_initial_permutation(INVERSE_PERMUTATION_TABLE, left+right)\n",
    "    return cipher\n",
    "\n",
    "def DES_decrypt(message,key):\n",
    "    cipher = \"\"\n",
    "    plaintext_bits = hexTobinary(message)\n",
    "    key_bits = hexTobinary(key)\n",
    "    # implement DES decryption \n",
    "    \n",
    "    keys = generate_keys(key_bits)\n",
    "    \n",
    "    perm = apply_initial_permutation(INITIAL_PERMUTATION_TABLE, plaintext_bits)\n",
    "    left, right = split_block_inhalf(perm)\n",
    "    for i in range(16):\n",
    "        newL = XOR(right, functionF(left, keys[i]))\n",
    "        newR = left\n",
    "        left = newL\n",
    "        right = newR\n",
    "        \n",
    "    cipher = apply_initial_permutation(INVERSE_PERMUTATION_TABLE, left+right)\n",
    "    return cipher\n",
    "\n",
    "print(\"Key:      \", hexTobinary(key))\n",
    "print(\"Plaintext:\", hexTobinary(M))\n",
    "C=DES_encrypt(M, key)\n",
    "print(\"Ciphertext: \",C) \n",
    "print(\"Ciphertext in hex: \", hex(int(DES_encrypt(M, key), 2)))\n",
    "print(\"Decrypted message: \", DES_decrypt('6432edf741f8456b', key))\n"
   ]
  },
  {
   "cell_type": "code",
   "execution_count": null,
   "metadata": {},
   "outputs": [],
   "source": []
  }
 ],
 "metadata": {
  "kernelspec": {
   "display_name": "Python 3",
   "language": "python",
   "name": "python3"
  },
  "language_info": {
   "codemirror_mode": {
    "name": "ipython",
    "version": 3
   },
   "file_extension": ".py",
   "mimetype": "text/x-python",
   "name": "python",
   "nbconvert_exporter": "python",
   "pygments_lexer": "ipython3",
   "version": "3.7.4"
  }
 },
 "nbformat": 4,
 "nbformat_minor": 2
}
