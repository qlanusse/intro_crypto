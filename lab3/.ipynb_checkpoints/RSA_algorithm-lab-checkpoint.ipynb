{
 "cells": [
  {
   "cell_type": "markdown",
   "metadata": {},
   "source": [
    "# Asymmetric cryptography: the RSA algorithm\n"
   ]
  },
  {
   "cell_type": "code",
   "execution_count": 8,
   "metadata": {},
   "outputs": [],
   "source": [
    "def gcd(a, b):\n",
    "    # Return the GCD of a and b using Euclid's Algorithm\n",
    "    while a != 0:\n",
    "        a, b = b % a, a\n",
    "    return b\n",
    "\n",
    "\n",
    "def findModInverse(a, m):\n",
    "    # Returns the modular inverse of a % m, which is\n",
    "    # the number x such that a*x % m = 1\n",
    "\n",
    "    if gcd(a, m) != 1:\n",
    "        return None # no mod inverse if a & m aren't relatively prime\n",
    "\n",
    "    # Calculate using the Extended Euclidean Algorithm:\n",
    "    u1, u2, u3 = 1, 0, a\n",
    "    v1, v2, v3 = 0, 1, m\n",
    "    while v3 != 0:\n",
    "        q = u3 // v3 # // is the integer division operator\n",
    "        v1, v2, v3, u1, u2, u3 = (u1 - q * v1), (u2 - q * v2), (u3 - q * v3), v1, v2, v3\n",
    "    return u1 % m"
   ]
  },
  {
   "cell_type": "markdown",
   "metadata": {},
   "source": [
    "## Rabin-Miller primality test "
   ]
  },
  {
   "cell_type": "code",
   "execution_count": 1,
   "metadata": {},
   "outputs": [
    {
     "name": "stdout",
     "output_type": "stream",
     "text": [
      "Prime number:  61547\n"
     ]
    }
   ],
   "source": [
    "import random\n",
    "\n",
    "\n",
    "def rabinMiller(num):\n",
    "    # Returns True if num is a prime number.\n",
    "\n",
    "    s = num - 1\n",
    "    t = 0\n",
    "    while s % 2 == 0:\n",
    "        # keep halving s while it is even (and use t\n",
    "        # to count how many times we halve s)\n",
    "        s = s // 2\n",
    "        t += 1\n",
    "\n",
    "    for trials in range(5): # try to falsify num's primality 5 times\n",
    "        a = random.randrange(2, num - 1)\n",
    "        v = pow(a, s, num)\n",
    "        if v != 1: # this test does not apply if v is 1.\n",
    "            i = 0\n",
    "            while v != (num - 1):\n",
    "                if i == t - 1:\n",
    "                    return False\n",
    "                else:\n",
    "                    i = i + 1\n",
    "                    v = (v ** 2) % num\n",
    "    return True\n",
    "\n",
    "\n",
    "def isPrime(num):\n",
    "    # Return True if num is a prime number. This function does a quicker\n",
    "    # prime number check before calling rabinMiller().\n",
    "\n",
    "    if (num < 2):\n",
    "        return False # 0, 1, and negative numbers are not prime\n",
    "\n",
    "    # About 1/3 of the time we can quickly determine if num is not prime\n",
    "    # by dividing by the first few dozen prime numbers. This is quicker\n",
    "    # than rabinMiller(), but unlike rabinMiller() is not guaranteed to\n",
    "    # prove that a number is prime.\n",
    "    lowPrimes = [2, 3, 5, 7, 11, 13, 17, 19, 23, 29, 31, 37, 41, 43, 47, 53, 59, 61, 67, 71, 73, 79, 83, 89, 97, 101, 103, 107, 109, 113, 127, 131, 137, 139, 149, 151, 157, 163, 167, 173, 179, 181, 191, 193, 197, 199, 211, 223, 227, 229, 233, 239, 241, 251, 257, 263, 269, 271, 277, 281, 283, 293, 307, 311, 313, 317, 331, 337, 347, 349, 353, 359, 367, 373, 379, 383, 389, 397, 401, 409, 419, 421, 431, 433, 439, 443, 449, 457, 461, 463, 467, 479, 487, 491, 499, 503, 509, 521, 523, 541, 547, 557, 563, 569, 571, 577, 587, 593, 599, 601, 607, 613, 617, 619, 631, 641, 643, 647, 653, 659, 661, 673, 677, 683, 691, 701, 709, 719, 727, 733, 739, 743, 751, 757, 761, 769, 773, 787, 797, 809, 811, 821, 823, 827, 829, 839, 853, 857, 859, 863, 877, 881, 883, 887, 907, 911, 919, 929, 937, 941, 947, 953, 967, 971, 977, 983, 991, 997]\n",
    "\n",
    "    if num in lowPrimes:\n",
    "        return True\n",
    "\n",
    "    # See if any of the low prime numbers can divide num\n",
    "    for prime in lowPrimes:\n",
    "        if (num % prime == 0):\n",
    "            return False\n",
    "\n",
    "    # If all else fails, call rabinMiller() to determine if num is a prime.\n",
    "    return rabinMiller(num)\n",
    "\n",
    "\n",
    "def generateLargePrime(keysize=1024):\n",
    "    # Return a random prime number of keysize bits in size.\n",
    "    while True:\n",
    "        num = random.randrange(2**(keysize-1), 2**(keysize))\n",
    "        if isPrime(num):\n",
    "            return num\n",
    "        \n",
    "newprime = generateLargePrime(16)\n",
    "print('Prime number: ', newprime)"
   ]
  },
  {
   "cell_type": "markdown",
   "metadata": {},
   "source": [
    "## Key generation in RSA \n",
    "\n",
    "1. Choose two large prime numbers $p$ and $q$.\n",
    "2. Find public exponent  $e$  which is coprime with  $(p−1)∗(q−1)$: $gcd(e,(p−1)∗(q−1) = 1$  \n",
    "3. Calculate private exponent $d=e^{-1}\\ (mod (p−1)(q−1))$\n",
    "4. Calculate modulus $n = p*q$ \n",
    "4. Public key is $(n,e)$ , private key is $(n,d)$"
   ]
  },
  {
   "cell_type": "code",
   "execution_count": 2,
   "metadata": {},
   "outputs": [
    {
     "name": "stdout",
     "output_type": "stream",
     "text": [
      "Public and private key generated:\n"
     ]
    },
    {
     "ename": "NameError",
     "evalue": "name 'n' is not defined",
     "output_type": "error",
     "traceback": [
      "\u001b[0;31m---------------------------------------------------------------------------\u001b[0m",
      "\u001b[0;31mNameError\u001b[0m                                 Traceback (most recent call last)",
      "\u001b[0;32m<ipython-input-2-18d4fc73f615>\u001b[0m in \u001b[0;36m<module>\u001b[0;34m()\u001b[0m\n\u001b[1;32m     17\u001b[0m \u001b[0;34m\u001b[0m\u001b[0m\n\u001b[1;32m     18\u001b[0m \u001b[0mprint\u001b[0m\u001b[0;34m(\u001b[0m\u001b[0;34m'Public and private key generated:'\u001b[0m\u001b[0;34m)\u001b[0m\u001b[0;34m\u001b[0m\u001b[0;34m\u001b[0m\u001b[0m\n\u001b[0;32m---> 19\u001b[0;31m \u001b[0mmakeKeyFiles\u001b[0m\u001b[0;34m(\u001b[0m\u001b[0;36m8\u001b[0m\u001b[0;34m)\u001b[0m\u001b[0;34m\u001b[0m\u001b[0;34m\u001b[0m\u001b[0m\n\u001b[0m",
      "\u001b[0;32m<ipython-input-2-18d4fc73f615>\u001b[0m in \u001b[0;36mmakeKeyFiles\u001b[0;34m(keySize)\u001b[0m\n\u001b[1;32m     14\u001b[0m \u001b[0;34m\u001b[0m\u001b[0m\n\u001b[1;32m     15\u001b[0m \u001b[0;32mdef\u001b[0m \u001b[0mmakeKeyFiles\u001b[0m\u001b[0;34m(\u001b[0m\u001b[0mkeySize\u001b[0m\u001b[0;34m)\u001b[0m\u001b[0;34m:\u001b[0m\u001b[0;34m\u001b[0m\u001b[0;34m\u001b[0m\u001b[0m\n\u001b[0;32m---> 16\u001b[0;31m     \u001b[0mpublic\u001b[0m\u001b[0;34m,\u001b[0m \u001b[0mprivate\u001b[0m \u001b[0;34m=\u001b[0m \u001b[0mgenerateKey\u001b[0m\u001b[0;34m(\u001b[0m\u001b[0mkeySize\u001b[0m\u001b[0;34m)\u001b[0m\u001b[0;34m\u001b[0m\u001b[0;34m\u001b[0m\u001b[0m\n\u001b[0m\u001b[1;32m     17\u001b[0m \u001b[0;34m\u001b[0m\u001b[0m\n\u001b[1;32m     18\u001b[0m \u001b[0mprint\u001b[0m\u001b[0;34m(\u001b[0m\u001b[0;34m'Public and private key generated:'\u001b[0m\u001b[0;34m)\u001b[0m\u001b[0;34m\u001b[0m\u001b[0;34m\u001b[0m\u001b[0m\n",
      "\u001b[0;32m<ipython-input-2-18d4fc73f615>\u001b[0m in \u001b[0;36mgenerateKey\u001b[0;34m(keySize)\u001b[0m\n\u001b[1;32m      5\u001b[0m       \u001b[0;31m#add code here\u001b[0m\u001b[0;34m\u001b[0m\u001b[0;34m\u001b[0m\u001b[0;34m\u001b[0m\u001b[0m\n\u001b[1;32m      6\u001b[0m \u001b[0;34m\u001b[0m\u001b[0m\n\u001b[0;32m----> 7\u001b[0;31m     \u001b[0mpublicKey\u001b[0m \u001b[0;34m=\u001b[0m \u001b[0;34m(\u001b[0m\u001b[0mn\u001b[0m\u001b[0;34m,\u001b[0m \u001b[0me\u001b[0m\u001b[0;34m)\u001b[0m\u001b[0;34m\u001b[0m\u001b[0;34m\u001b[0m\u001b[0m\n\u001b[0m\u001b[1;32m      8\u001b[0m     \u001b[0mprivateKey\u001b[0m \u001b[0;34m=\u001b[0m \u001b[0;34m(\u001b[0m\u001b[0mn\u001b[0m\u001b[0;34m,\u001b[0m \u001b[0md\u001b[0m\u001b[0;34m)\u001b[0m\u001b[0;34m\u001b[0m\u001b[0;34m\u001b[0m\u001b[0m\n\u001b[1;32m      9\u001b[0m     \u001b[0mprint\u001b[0m\u001b[0;34m(\u001b[0m\u001b[0;34m'Public key:'\u001b[0m\u001b[0;34m,\u001b[0m \u001b[0mpublicKey\u001b[0m\u001b[0;34m)\u001b[0m\u001b[0;34m\u001b[0m\u001b[0;34m\u001b[0m\u001b[0m\n",
      "\u001b[0;31mNameError\u001b[0m: name 'n' is not defined"
     ]
    }
   ],
   "source": [
    "\n",
    "import random, sys, os\n",
    "    \n",
    "def generateKey(keySize):\n",
    "      #add code here \n",
    "\n",
    "    publicKey = (n, e)\n",
    "    privateKey = (n, d)\n",
    "    print('Public key:', publicKey)\n",
    "    print('Private key:', privateKey)\n",
    "    return (publicKey, privateKey)\n",
    "\n",
    "\n",
    "\n",
    "def makeKeyFiles(keySize):\n",
    "    public, private = generateKey(keySize)\n",
    "  \n",
    "print('Public and private key generated:')\n",
    "makeKeyFiles(8)"
   ]
  },
  {
   "cell_type": "markdown",
   "metadata": {},
   "source": [
    "## Encrypting with RSA \n",
    "$c=m^e (mod\\ n)$"
   ]
  },
  {
   "cell_type": "code",
   "execution_count": null,
   "metadata": {},
   "outputs": [],
   "source": [
    "def encrypt(message, modulus, exp):\n",
    "    # encrypt\n",
    "    message_ascii = []\n",
    "    for i in message:\n",
    "        message_ascii.append(ord(i))\n",
    "    print(message_ascii)\n",
    "\n",
    "    message_encrypted = []\n",
    "    for i in message_ascii:\n",
    "        message_encrypted.append(pow(i, exp, modulus))\n",
    "    return message_encrypted\n",
    "\n",
    "\n",
    "keyPublic, keyPrivate = generateKey(8)\n",
    "print(keyPublic, keyPrivate)\n",
    "\n",
    "ciphertext= encrypt('Hello world', keyPublic[0], keyPublic[1])\n",
    "print(ciphertext)"
   ]
  },
  {
   "cell_type": "markdown",
   "metadata": {},
   "source": [
    "## Decrypting with RSA\n",
    "$m = c^d (mod\\ n)$"
   ]
  },
  {
   "cell_type": "code",
   "execution_count": null,
   "metadata": {},
   "outputs": [],
   "source": [
    "def decrypt(message_encrypted, modulus, exp):    \n",
    "    # decrypt \n",
    "\n",
    "    return ('').join(message)\n",
    "\n",
    "plaintext = decrypt(ciphertext, keyPrivate[0], keyPrivate[1])\n",
    "print(plaintext)"
   ]
  }
 ],
 "metadata": {
  "kernelspec": {
   "display_name": "Python 3",
   "language": "python",
   "name": "python3"
  },
  "language_info": {
   "codemirror_mode": {
    "name": "ipython",
    "version": 3
   },
   "file_extension": ".py",
   "mimetype": "text/x-python",
   "name": "python",
   "nbconvert_exporter": "python",
   "pygments_lexer": "ipython3",
   "version": "3.8.0"
  }
 },
 "nbformat": 4,
 "nbformat_minor": 2
}
